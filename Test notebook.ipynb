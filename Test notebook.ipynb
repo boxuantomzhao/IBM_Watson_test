{
    "cells": [
        {
            "cell_type": "markdown",
            "metadata": {},
            "source": "# Description\nThis is a test notebook"
        },
        {
            "cell_type": "code",
            "execution_count": 1,
            "metadata": {},
            "outputs": [
                {
                    "name": "stdout",
                    "output_type": "stream",
                    "text": "hello world\n"
                }
            ],
            "source": "print('hello world')"
        },
        {
            "cell_type": "code",
            "execution_count": null,
            "metadata": {},
            "outputs": [],
            "source": "print('autosave?')"
        },
        {
            "cell_type": "markdown",
            "metadata": {},
            "source": "# Insert data"
        },
        {
            "cell_type": "code",
            "execution_count": 1,
            "metadata": {},
            "outputs": [
                {
                    "data": {
                        "text/html": "<div>\n<style scoped>\n    .dataframe tbody tr th:only-of-type {\n        vertical-align: middle;\n    }\n\n    .dataframe tbody tr th {\n        vertical-align: top;\n    }\n\n    .dataframe thead th {\n        text-align: right;\n    }\n</style>\n<table border=\"1\" class=\"dataframe\">\n  <thead>\n    <tr style=\"text-align: right;\">\n      <th></th>\n      <th>T02</th>\n      <th>Population, density and surface area</th>\n      <th>Unnamed: 2</th>\n      <th>Unnamed: 3</th>\n      <th>Unnamed: 4</th>\n      <th>Unnamed: 5</th>\n      <th>Unnamed: 6</th>\n    </tr>\n  </thead>\n  <tbody>\n    <tr>\n      <th>0</th>\n      <td>Region/Country/Area</td>\n      <td>NaN</td>\n      <td>Year</td>\n      <td>Series</td>\n      <td>Value</td>\n      <td>Footnotes</td>\n      <td>Source</td>\n    </tr>\n    <tr>\n      <th>1</th>\n      <td>1</td>\n      <td>Total, all countries or areas</td>\n      <td>2010</td>\n      <td>Population mid-year estimates (millions)</td>\n      <td>6,985.60</td>\n      <td>NaN</td>\n      <td>United Nations Population Division, New York, ...</td>\n    </tr>\n    <tr>\n      <th>2</th>\n      <td>1</td>\n      <td>Total, all countries or areas</td>\n      <td>2010</td>\n      <td>Population mid-year estimates for males (milli...</td>\n      <td>3,514.41</td>\n      <td>NaN</td>\n      <td>United Nations Population Division, New York, ...</td>\n    </tr>\n    <tr>\n      <th>3</th>\n      <td>1</td>\n      <td>Total, all countries or areas</td>\n      <td>2010</td>\n      <td>Population mid-year estimates for females (mil...</td>\n      <td>3,471.20</td>\n      <td>NaN</td>\n      <td>United Nations Population Division, New York, ...</td>\n    </tr>\n    <tr>\n      <th>4</th>\n      <td>1</td>\n      <td>Total, all countries or areas</td>\n      <td>2010</td>\n      <td>Sex ratio (males per 100 females)</td>\n      <td>101.2</td>\n      <td>NaN</td>\n      <td>United Nations Population Division, New York, ...</td>\n    </tr>\n  </tbody>\n</table>\n</div>",
                        "text/plain": "                   T02 Population, density and surface area Unnamed: 2  \\\n0  Region/Country/Area                                  NaN       Year   \n1                    1        Total, all countries or areas       2010   \n2                    1        Total, all countries or areas       2010   \n3                    1        Total, all countries or areas       2010   \n4                    1        Total, all countries or areas       2010   \n\n                                          Unnamed: 3 Unnamed: 4 Unnamed: 5  \\\n0                                             Series      Value  Footnotes   \n1           Population mid-year estimates (millions)   6,985.60        NaN   \n2  Population mid-year estimates for males (milli...   3,514.41        NaN   \n3  Population mid-year estimates for females (mil...   3,471.20        NaN   \n4                  Sex ratio (males per 100 females)      101.2        NaN   \n\n                                          Unnamed: 6  \n0                                             Source  \n1  United Nations Population Division, New York, ...  \n2  United Nations Population Division, New York, ...  \n3  United Nations Population Division, New York, ...  \n4  United Nations Population Division, New York, ...  "
                    },
                    "execution_count": 1,
                    "metadata": {},
                    "output_type": "execute_result"
                }
            ],
            "source": "# The code was removed by Watson Studio for sharing."
        },
        {
            "cell_type": "code",
            "execution_count": null,
            "metadata": {},
            "outputs": [],
            "source": ""
        }
    ],
    "metadata": {
        "kernelspec": {
            "display_name": "Python 3.10",
            "language": "python",
            "name": "python3"
        },
        "language_info": {
            "codemirror_mode": {
                "name": "ipython",
                "version": 3
            },
            "file_extension": ".py",
            "mimetype": "text/x-python",
            "name": "python",
            "nbconvert_exporter": "python",
            "pygments_lexer": "ipython3",
            "version": "3.10.9"
        }
    },
    "nbformat": 4,
    "nbformat_minor": 1
}